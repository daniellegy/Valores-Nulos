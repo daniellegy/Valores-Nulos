{
 "cells": [
  {
   "cell_type": "markdown",
   "metadata": {},
   "source": [
    "**IMPORTAR LIBRERÍAS**"
   ]
  },
  {
   "cell_type": "code",
   "execution_count": 1,
   "metadata": {},
   "outputs": [],
   "source": [
    "import pandas as pd\n",
    "import numpy as np \n",
    "import matplotlib.pyplot as plt \n",
    "import seaborn as sns"
   ]
  },
  {
   "cell_type": "markdown",
   "metadata": {},
   "source": [
    "**CARGAMOS EL ARCHIVO CSV**"
   ]
  },
  {
   "cell_type": "code",
   "execution_count": null,
   "metadata": {},
   "outputs": [],
   "source": [
    "data=pd.read_csv('listings_Mexico.csv')\n",
    "data"
   ]
  },
  {
   "cell_type": "markdown",
   "metadata": {},
   "source": [
    "**CHECAMOS LOS VALORES NULOS**"
   ]
  },
  {
   "cell_type": "code",
   "execution_count": 4,
   "metadata": {},
   "outputs": [
    {
     "data": {
      "text/plain": [
       "id                                                 0\n",
       "listing_url                                        0\n",
       "scrape_id                                          0\n",
       "last_scraped                                       0\n",
       "source                                             0\n",
       "                                                ... \n",
       "calculated_host_listings_count                     0\n",
       "calculated_host_listings_count_entire_homes        0\n",
       "calculated_host_listings_count_private_rooms       0\n",
       "calculated_host_listings_count_shared_rooms        0\n",
       "reviews_per_month                               3656\n",
       "Length: 75, dtype: int64"
      ]
     },
     "execution_count": 4,
     "metadata": {},
     "output_type": "execute_result"
    }
   ],
   "source": [
    "valores_nulos=data.isnull().sum()\n",
    "valores_nulos"
   ]
  },
  {
   "cell_type": "markdown",
   "metadata": {},
   "source": [
    "**COMENZAMOS A TRATAR LOS NULOS DE LAS 23 COLUMNAS QUE LOS CONTIENEN**"
   ]
  },
  {
   "cell_type": "markdown",
   "metadata": {},
   "source": [
    "**1. HOST_LOCATION**"
   ]
  },
  {
   "cell_type": "code",
   "execution_count": 4,
   "metadata": {},
   "outputs": [],
   "source": [
    "# Método: Sustitución con un string específico\n",
    "data['host_location'] = data['host_location'].fillna(\"Desconocido\")  \n",
    "# Razón: Se utiliza un valor descriptivo para indicar que la ubicación del anfitrión es desconocida."
   ]
  },
  {
   "cell_type": "markdown",
   "metadata": {},
   "source": [
    "**2. HOST_RESPONSE_TIME**"
   ]
  },
  {
   "cell_type": "code",
   "execution_count": 5,
   "metadata": {},
   "outputs": [],
   "source": [
    "# Método: Sustitución con un string específico\n",
    "data['host_response_time'] = data['host_response_time'].fillna(\"Desconocido\")  \n",
    "# Razón: Se utiliza un valor que indica que el tiempo de respuesta es desconocido."
   ]
  },
  {
   "cell_type": "markdown",
   "metadata": {},
   "source": [
    "**3. HOST_RESPONSE_RATE**"
   ]
  },
  {
   "cell_type": "code",
   "execution_count": 6,
   "metadata": {},
   "outputs": [],
   "source": [
    "# Método: Sustitución con la media\n",
    "data['host_response_rate'] = data['host_response_rate'].str.replace('%', '').astype(float)\n",
    "data['host_response_rate'] = data['host_response_rate'].fillna(data['host_response_rate'].mean())\n",
    "data['host_response_rate'] = data['host_response_rate'].astype(str) + '%'  \n",
    "# Razón: La media es un buen estimador para datos continuos y ayuda a mantener la distribución de los datos."
   ]
  },
  {
   "cell_type": "markdown",
   "metadata": {},
   "source": [
    "**4. HOST_ACCEPTANCE_RATE**"
   ]
  },
  {
   "cell_type": "code",
   "execution_count": 7,
   "metadata": {},
   "outputs": [],
   "source": [
    "# Método: Sustitución con la mediana\n",
    "data['host_acceptance_rate'] = data['host_acceptance_rate'].str.replace('%', '').astype(float)\n",
    "data['host_acceptance_rate'] = data['host_acceptance_rate'].fillna(data['host_acceptance_rate'].mean())\n",
    "data['host_acceptance_rate'] = data['host_acceptance_rate'].astype(str) + '%' \n",
    "# Razón: La mediana es menos sensible a los valores atípicos y proporciona una mejor representación central en este caso."
   ]
  },
  {
   "cell_type": "markdown",
   "metadata": {},
   "source": [
    "**5. HOST_IS_SUPERHOST**"
   ]
  },
  {
   "cell_type": "code",
   "execution_count": 8,
   "metadata": {},
   "outputs": [],
   "source": [
    "# Método: Sustitución con un valor específico\n",
    "data['host_is_superhost'] = data['host_is_superhost'].fillna(\"f\")  \n",
    "# Razón: Se asume que si no hay información, el anfitrión no es un superanfitrión."
   ]
  },
  {
   "cell_type": "markdown",
   "metadata": {},
   "source": [
    "**6. BATHROOMS**"
   ]
  },
  {
   "cell_type": "code",
   "execution_count": 9,
   "metadata": {},
   "outputs": [],
   "source": [
    "# Método: Sustitución con un valor específico\n",
    "data['bathrooms'] = data['bathrooms'].fillna(data['bathrooms'].mean())\n",
    "# Razón: Se utiliza un valor que indica el número de baños del airbnb."
   ]
  },
  {
   "cell_type": "markdown",
   "metadata": {},
   "source": [
    "**7. BATHROOMS_TEXT**"
   ]
  },
  {
   "cell_type": "code",
   "execution_count": 31,
   "metadata": {},
   "outputs": [],
   "source": [
    "# Método: Sustitución con un valor específico\n",
    "data['bathrooms_text'] = data['bathrooms_text'].fillna(\"1 baño\")  \n",
    "# Razón: Se utiliza un valor que indica que no hay baños disponibles."
   ]
  },
  {
   "cell_type": "markdown",
   "metadata": {},
   "source": [
    "**8. BEDROOMS**"
   ]
  },
  {
   "cell_type": "code",
   "execution_count": 11,
   "metadata": {},
   "outputs": [],
   "source": [
    "# Método: Sustitución con la mediana\n",
    "data['bedrooms'] = data['bedrooms'].fillna(data['bedrooms'].median())  \n",
    "# Razón: La mediana es un mejor estimador en caso de que existan valores atípicos."
   ]
  },
  {
   "cell_type": "markdown",
   "metadata": {},
   "source": [
    "**9. BEDS**"
   ]
  },
  {
   "cell_type": "code",
   "execution_count": 15,
   "metadata": {},
   "outputs": [],
   "source": [
    "# Método: Sustitución con la mediana\n",
    "data['beds'] = data['beds'].fillna(data['beds'].median())  \n",
    "# Razón: La mediana es menos sensible a los valores atípicos y proporciona una mejor representación central."
   ]
  },
  {
   "cell_type": "markdown",
   "metadata": {},
   "source": [
    "**10. PRICE**"
   ]
  },
  {
   "cell_type": "code",
   "execution_count": 16,
   "metadata": {},
   "outputs": [],
   "source": [
    "# Método: Sustitución con la mediana\n",
    "data['price'] = data['price'].str.replace('$', '')\n",
    "data['price'] = data['price'].str.replace(',', '').astype(float)\n",
    "data['price'] = data['price'].fillna(data['price'].median())\n",
    "data['price'] = data['price'].astype(str) + '$'\n",
    "# Razón: La mediana es un mejor estimador en caso de que existan valores atípicos."
   ]
  },
  {
   "cell_type": "markdown",
   "metadata": {},
   "source": [
    "**11. CALENDAR_UPDATED**"
   ]
  },
  {
   "cell_type": "code",
   "execution_count": 14,
   "metadata": {},
   "outputs": [],
   "source": [
    "# Método: Sustitución con un string específico\n",
    "data['calendar_updated'] = data['calendar_updated'].fillna(\"No actualizado\")  \n",
    "# Razón: Se utiliza un valor que indica que el calendario no ha sido actualizado."
   ]
  },
  {
   "cell_type": "markdown",
   "metadata": {},
   "source": [
    "**12. HAS_AVAILABILITY**"
   ]
  },
  {
   "cell_type": "code",
   "execution_count": 17,
   "metadata": {},
   "outputs": [],
   "source": [
    "# Método: Sustitución con un valor específico\n",
    "data['has_availability'] = data['has_availability'].fillna(\"f\")  \n",
    "# Razón: Se asume que si no hay información, no hay disponibilidad."
   ]
  },
  {
   "cell_type": "markdown",
   "metadata": {},
   "source": [
    "**13. FIRST_REVIEW**"
   ]
  },
  {
   "cell_type": "code",
   "execution_count": 18,
   "metadata": {},
   "outputs": [],
   "source": [
    "# Método: Sustitución con un string específico\n",
    "data['first_review'] = data['first_review'].fillna(\"Sin fecha\")  \n",
    "# Razón: Se utiliza un valor que indica que no hay reseñas disponibles."
   ]
  },
  {
   "cell_type": "markdown",
   "metadata": {},
   "source": [
    "**14. LAST_REVIEW**"
   ]
  },
  {
   "cell_type": "code",
   "execution_count": 19,
   "metadata": {},
   "outputs": [],
   "source": [
    "# Método: Sustitución con un string específico\n",
    "data['last_review'] = data['last_review'].fillna(\"Sin fecha\")  \n",
    "# Razón: Se utiliza un valor que indica que no hay reseñas disponibles."
   ]
  },
  {
   "cell_type": "markdown",
   "metadata": {},
   "source": [
    "**15. REVIEW_SCORES_RATING**"
   ]
  },
  {
   "cell_type": "code",
   "execution_count": 20,
   "metadata": {},
   "outputs": [],
   "source": [
    "# Método: Sustitución con la media\n",
    "data['review_scores_rating'] = data['review_scores_rating'].fillna(data['review_scores_rating'].mean())  \n",
    "# Razón: La media es un buen estimador para datos continuos y ayuda a mantener la distribución de los datos."
   ]
  },
  {
   "cell_type": "markdown",
   "metadata": {},
   "source": [
    "**16. REVIEW_SCORES_ACCURACY**"
   ]
  },
  {
   "cell_type": "code",
   "execution_count": 21,
   "metadata": {},
   "outputs": [],
   "source": [
    "# Método: Sustitución con la media\n",
    "data['review_scores_accuracy'] = data['review_scores_accuracy'].fillna(data['review_scores_accuracy'].mean())  \n",
    "# Razón: La media es un buen estimador para datos continuos y ayuda a mantener la distribución de los datos."
   ]
  },
  {
   "cell_type": "markdown",
   "metadata": {},
   "source": [
    "**17. REVIEW_SCORES_CLEANLINESS**"
   ]
  },
  {
   "cell_type": "code",
   "execution_count": 22,
   "metadata": {},
   "outputs": [],
   "source": [
    "# Método: Sustitución con la media\n",
    "data['review_scores_cleanliness'] = data['review_scores_cleanliness'].fillna(data['review_scores_cleanliness'].mean())  \n",
    "# Razón: La media es un buen estimador para datos continuos y ayuda a mantener la distribución de los datos."
   ]
  },
  {
   "cell_type": "markdown",
   "metadata": {},
   "source": [
    "**18. REVIEW_SCORES_CHECKIN**"
   ]
  },
  {
   "cell_type": "code",
   "execution_count": 23,
   "metadata": {},
   "outputs": [],
   "source": [
    "# Método: Sustitución con la media\n",
    "data['review_scores_checkin'] = data['review_scores_checkin'].fillna(data['review_scores_checkin'].mean())  \n",
    "# Razón: La media es un buen estimador para datos continuos y ayuda a mantener la distribución de los datos."
   ]
  },
  {
   "cell_type": "markdown",
   "metadata": {},
   "source": [
    "**19. REVIEW_SCORES_COMMUNICATION**"
   ]
  },
  {
   "cell_type": "code",
   "execution_count": 24,
   "metadata": {},
   "outputs": [],
   "source": [
    "# Método: Sustitución con la media\n",
    "data['review_scores_communication'] = data['review_scores_communication'].fillna(data['review_scores_communication'].mean())  \n",
    "# Razón: La media es un buen estimador para datos continuos y ayuda a mantener la distribución de los datos."
   ]
  },
  {
   "cell_type": "markdown",
   "metadata": {},
   "source": [
    "**20. REVIEW_SCORES_LOCATION**"
   ]
  },
  {
   "cell_type": "code",
   "execution_count": 25,
   "metadata": {},
   "outputs": [],
   "source": [
    "# Método: Sustitución con la media\n",
    "data['review_scores_location'] = data['review_scores_location'].fillna(data['review_scores_location'].mean())  \n",
    "# Razón: La media es un buen estimador para datos continuos y ayuda a mantener la distribución de los datos."
   ]
  },
  {
   "cell_type": "markdown",
   "metadata": {},
   "source": [
    "**21. REVIEW_SCORES_VALUE**"
   ]
  },
  {
   "cell_type": "code",
   "execution_count": 26,
   "metadata": {},
   "outputs": [],
   "source": [
    "# Método: Sustitución con la media\n",
    "data['review_scores_value'] = data['review_scores_value'].fillna(data['review_scores_value'].mean())  \n",
    "# Razón: La media es un buen estimador para datos continuos y ayuda a mantener la distribución de los datos."
   ]
  },
  {
   "cell_type": "markdown",
   "metadata": {},
   "source": [
    "**22. LICENSE**"
   ]
  },
  {
   "cell_type": "code",
   "execution_count": 27,
   "metadata": {},
   "outputs": [],
   "source": [
    "# Método: Sustitución con un string específico\n",
    "data['license'] = data['license'].fillna(\"Sin licencia\")  \n",
    "# Razón: Se utiliza un valor que indica que no hay información sobre la licencia."
   ]
  },
  {
   "cell_type": "markdown",
   "metadata": {},
   "source": [
    "**23. REVIEWS_PER_MONTH**"
   ]
  },
  {
   "cell_type": "code",
   "execution_count": 28,
   "metadata": {},
   "outputs": [],
   "source": [
    "# Método: Sustitución con la media\n",
    "data['reviews_per_month'] = data['reviews_per_month'].fillna(data['reviews_per_month'].mean())  \n",
    "# Razón: La media es un buen estimador para datos continuos y ayuda a mantener la distribución de los datos."
   ]
  },
  {
   "cell_type": "markdown",
   "metadata": {},
   "source": [
    "**CREAMOS EL ARCHIVO CSV LIMPIO**"
   ]
  },
  {
   "cell_type": "code",
   "execution_count": 30,
   "metadata": {},
   "outputs": [],
   "source": [
    "data.to_csv('listings_limpio.csv')"
   ]
  }
 ],
 "metadata": {
  "kernelspec": {
   "display_name": "Python 3",
   "language": "python",
   "name": "python3"
  },
  "language_info": {
   "codemirror_mode": {
    "name": "ipython",
    "version": 3
   },
   "file_extension": ".py",
   "mimetype": "text/x-python",
   "name": "python",
   "nbconvert_exporter": "python",
   "pygments_lexer": "ipython3",
   "version": "3.12.1"
  }
 },
 "nbformat": 4,
 "nbformat_minor": 2
}
