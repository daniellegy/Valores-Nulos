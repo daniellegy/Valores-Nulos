{
 "cells": [
  {
   "cell_type": "markdown",
   "metadata": {},
   "source": [
    "**IMPORTAR LIBRERÍAS**"
   ]
  },
  {
   "cell_type": "code",
   "execution_count": 1,
   "metadata": {},
   "outputs": [],
   "source": [
    "import pandas as pd\n",
    "import numpy as np \n",
    "import matplotlib.pyplot as plt \n",
    "import seaborn as sns"
   ]
  },
  {
   "cell_type": "markdown",
   "metadata": {},
   "source": [
    "**CARGAMOS EL ARCHIVO CSV**"
   ]
  },
  {
   "cell_type": "code",
   "execution_count": 2,
   "metadata": {},
   "outputs": [
    {
     "data": {
      "text/html": [
       "<div>\n",
       "<style scoped>\n",
       "    .dataframe tbody tr th:only-of-type {\n",
       "        vertical-align: middle;\n",
       "    }\n",
       "\n",
       "    .dataframe tbody tr th {\n",
       "        vertical-align: top;\n",
       "    }\n",
       "\n",
       "    .dataframe thead th {\n",
       "        text-align: right;\n",
       "    }\n",
       "</style>\n",
       "<table border=\"1\" class=\"dataframe\">\n",
       "  <thead>\n",
       "    <tr style=\"text-align: right;\">\n",
       "      <th></th>\n",
       "      <th>id</th>\n",
       "      <th>listing_url</th>\n",
       "      <th>host_id</th>\n",
       "      <th>host_name</th>\n",
       "      <th>host_since</th>\n",
       "      <th>host_location</th>\n",
       "      <th>host_response_time</th>\n",
       "      <th>host_response_rate</th>\n",
       "      <th>host_acceptance_rate</th>\n",
       "      <th>host_is_superhost</th>\n",
       "      <th>...</th>\n",
       "      <th>review_scores_communication</th>\n",
       "      <th>review_scores_location</th>\n",
       "      <th>review_scores_value</th>\n",
       "      <th>license</th>\n",
       "      <th>instant_bookable</th>\n",
       "      <th>calculated_host_listings_count</th>\n",
       "      <th>calculated_host_listings_count_entire_homes</th>\n",
       "      <th>calculated_host_listings_count_private_rooms</th>\n",
       "      <th>calculated_host_listings_count_shared_rooms</th>\n",
       "      <th>reviews_per_month</th>\n",
       "    </tr>\n",
       "  </thead>\n",
       "  <tbody>\n",
       "    <tr>\n",
       "      <th>0</th>\n",
       "      <td>10595</td>\n",
       "      <td>https://www.airbnb.com/rooms/10595</td>\n",
       "      <td>37177</td>\n",
       "      <td>Emmanouil</td>\n",
       "      <td>08/09/2009</td>\n",
       "      <td>Athens, Greece</td>\n",
       "      <td>within an hour</td>\n",
       "      <td>100%</td>\n",
       "      <td>100%</td>\n",
       "      <td>t</td>\n",
       "      <td>...</td>\n",
       "      <td>4.91</td>\n",
       "      <td>4.58</td>\n",
       "      <td>4.75</td>\n",
       "      <td>00002433180</td>\n",
       "      <td>t</td>\n",
       "      <td>7</td>\n",
       "      <td>7</td>\n",
       "      <td>0</td>\n",
       "      <td>0</td>\n",
       "      <td>0.33</td>\n",
       "    </tr>\n",
       "    <tr>\n",
       "      <th>1</th>\n",
       "      <td>10990</td>\n",
       "      <td>https://www.airbnb.com/rooms/10990</td>\n",
       "      <td>37177</td>\n",
       "      <td>Emmanouil</td>\n",
       "      <td>08/09/2009</td>\n",
       "      <td>Athens, Greece</td>\n",
       "      <td>within an hour</td>\n",
       "      <td>100%</td>\n",
       "      <td>100%</td>\n",
       "      <td>t</td>\n",
       "      <td>...</td>\n",
       "      <td>4.90</td>\n",
       "      <td>4.80</td>\n",
       "      <td>4.75</td>\n",
       "      <td>00002433169</td>\n",
       "      <td>t</td>\n",
       "      <td>7</td>\n",
       "      <td>7</td>\n",
       "      <td>0</td>\n",
       "      <td>0</td>\n",
       "      <td>0.56</td>\n",
       "    </tr>\n",
       "    <tr>\n",
       "      <th>2</th>\n",
       "      <td>10993</td>\n",
       "      <td>https://www.airbnb.com/rooms/10993</td>\n",
       "      <td>37177</td>\n",
       "      <td>Emmanouil</td>\n",
       "      <td>08/09/2009</td>\n",
       "      <td>Athens, Greece</td>\n",
       "      <td>within an hour</td>\n",
       "      <td>100%</td>\n",
       "      <td>100%</td>\n",
       "      <td>t</td>\n",
       "      <td>...</td>\n",
       "      <td>4.97</td>\n",
       "      <td>4.79</td>\n",
       "      <td>4.78</td>\n",
       "      <td>00002433010</td>\n",
       "      <td>t</td>\n",
       "      <td>7</td>\n",
       "      <td>7</td>\n",
       "      <td>0</td>\n",
       "      <td>0</td>\n",
       "      <td>0.73</td>\n",
       "    </tr>\n",
       "    <tr>\n",
       "      <th>3</th>\n",
       "      <td>10995</td>\n",
       "      <td>https://www.airbnb.com/rooms/10995</td>\n",
       "      <td>37177</td>\n",
       "      <td>Emmanouil</td>\n",
       "      <td>08/09/2009</td>\n",
       "      <td>Athens, Greece</td>\n",
       "      <td>within an hour</td>\n",
       "      <td>100%</td>\n",
       "      <td>100%</td>\n",
       "      <td>t</td>\n",
       "      <td>...</td>\n",
       "      <td>4.89</td>\n",
       "      <td>4.82</td>\n",
       "      <td>4.82</td>\n",
       "      <td>00002433153</td>\n",
       "      <td>t</td>\n",
       "      <td>7</td>\n",
       "      <td>7</td>\n",
       "      <td>0</td>\n",
       "      <td>0</td>\n",
       "      <td>0.21</td>\n",
       "    </tr>\n",
       "    <tr>\n",
       "      <th>4</th>\n",
       "      <td>27262</td>\n",
       "      <td>https://www.airbnb.com/rooms/27262</td>\n",
       "      <td>37177</td>\n",
       "      <td>Emmanouil</td>\n",
       "      <td>08/09/2009</td>\n",
       "      <td>Athens, Greece</td>\n",
       "      <td>within an hour</td>\n",
       "      <td>100%</td>\n",
       "      <td>100%</td>\n",
       "      <td>t</td>\n",
       "      <td>...</td>\n",
       "      <td>4.96</td>\n",
       "      <td>4.75</td>\n",
       "      <td>4.71</td>\n",
       "      <td>00002433111</td>\n",
       "      <td>t</td>\n",
       "      <td>7</td>\n",
       "      <td>7</td>\n",
       "      <td>0</td>\n",
       "      <td>0</td>\n",
       "      <td>0.17</td>\n",
       "    </tr>\n",
       "    <tr>\n",
       "      <th>...</th>\n",
       "      <td>...</td>\n",
       "      <td>...</td>\n",
       "      <td>...</td>\n",
       "      <td>...</td>\n",
       "      <td>...</td>\n",
       "      <td>...</td>\n",
       "      <td>...</td>\n",
       "      <td>...</td>\n",
       "      <td>...</td>\n",
       "      <td>...</td>\n",
       "      <td>...</td>\n",
       "      <td>...</td>\n",
       "      <td>...</td>\n",
       "      <td>...</td>\n",
       "      <td>...</td>\n",
       "      <td>...</td>\n",
       "      <td>...</td>\n",
       "      <td>...</td>\n",
       "      <td>...</td>\n",
       "      <td>...</td>\n",
       "      <td>...</td>\n",
       "    </tr>\n",
       "    <tr>\n",
       "      <th>14132</th>\n",
       "      <td>1249944747704827637</td>\n",
       "      <td>https://www.airbnb.com/rooms/1249944747704827637</td>\n",
       "      <td>484008994</td>\n",
       "      <td>Polikratos</td>\n",
       "      <td>17/10/2022</td>\n",
       "      <td>Athens, Greece</td>\n",
       "      <td>within an hour</td>\n",
       "      <td>100%</td>\n",
       "      <td>100%</td>\n",
       "      <td>f</td>\n",
       "      <td>...</td>\n",
       "      <td>NaN</td>\n",
       "      <td>NaN</td>\n",
       "      <td>NaN</td>\n",
       "      <td>00002503553</td>\n",
       "      <td>t</td>\n",
       "      <td>4</td>\n",
       "      <td>4</td>\n",
       "      <td>0</td>\n",
       "      <td>0</td>\n",
       "      <td>NaN</td>\n",
       "    </tr>\n",
       "    <tr>\n",
       "      <th>14133</th>\n",
       "      <td>1250012048760328092</td>\n",
       "      <td>https://www.airbnb.com/rooms/1250012048760328092</td>\n",
       "      <td>457404107</td>\n",
       "      <td>Frehiwot</td>\n",
       "      <td>04/05/2022</td>\n",
       "      <td>NaN</td>\n",
       "      <td>NaN</td>\n",
       "      <td>NaN</td>\n",
       "      <td>100%</td>\n",
       "      <td>f</td>\n",
       "      <td>...</td>\n",
       "      <td>NaN</td>\n",
       "      <td>NaN</td>\n",
       "      <td>NaN</td>\n",
       "      <td>00002925861</td>\n",
       "      <td>f</td>\n",
       "      <td>1</td>\n",
       "      <td>1</td>\n",
       "      <td>0</td>\n",
       "      <td>0</td>\n",
       "      <td>NaN</td>\n",
       "    </tr>\n",
       "    <tr>\n",
       "      <th>14134</th>\n",
       "      <td>1250050091910224971</td>\n",
       "      <td>https://www.airbnb.com/rooms/1250050091910224971</td>\n",
       "      <td>215440107</td>\n",
       "      <td>I Home</td>\n",
       "      <td>14/09/2018</td>\n",
       "      <td>Athens, Greece</td>\n",
       "      <td>within an hour</td>\n",
       "      <td>100%</td>\n",
       "      <td>100%</td>\n",
       "      <td>f</td>\n",
       "      <td>...</td>\n",
       "      <td>NaN</td>\n",
       "      <td>NaN</td>\n",
       "      <td>NaN</td>\n",
       "      <td>Exempt</td>\n",
       "      <td>t</td>\n",
       "      <td>8</td>\n",
       "      <td>8</td>\n",
       "      <td>0</td>\n",
       "      <td>0</td>\n",
       "      <td>NaN</td>\n",
       "    </tr>\n",
       "    <tr>\n",
       "      <th>14135</th>\n",
       "      <td>1250102024274955611</td>\n",
       "      <td>https://www.airbnb.com/rooms/1250102024274955611</td>\n",
       "      <td>91254600</td>\n",
       "      <td>Flo</td>\n",
       "      <td>22/08/2016</td>\n",
       "      <td>Athens, Greece</td>\n",
       "      <td>within an hour</td>\n",
       "      <td>100%</td>\n",
       "      <td>88%</td>\n",
       "      <td>t</td>\n",
       "      <td>...</td>\n",
       "      <td>NaN</td>\n",
       "      <td>NaN</td>\n",
       "      <td>NaN</td>\n",
       "      <td>00002886603</td>\n",
       "      <td>f</td>\n",
       "      <td>3</td>\n",
       "      <td>3</td>\n",
       "      <td>0</td>\n",
       "      <td>0</td>\n",
       "      <td>NaN</td>\n",
       "    </tr>\n",
       "    <tr>\n",
       "      <th>14136</th>\n",
       "      <td>1250198708572511328</td>\n",
       "      <td>https://www.airbnb.com/rooms/1250198708572511328</td>\n",
       "      <td>91254600</td>\n",
       "      <td>Flo</td>\n",
       "      <td>22/08/2016</td>\n",
       "      <td>Athens, Greece</td>\n",
       "      <td>within an hour</td>\n",
       "      <td>100%</td>\n",
       "      <td>88%</td>\n",
       "      <td>t</td>\n",
       "      <td>...</td>\n",
       "      <td>NaN</td>\n",
       "      <td>NaN</td>\n",
       "      <td>NaN</td>\n",
       "      <td>00002886619</td>\n",
       "      <td>f</td>\n",
       "      <td>3</td>\n",
       "      <td>3</td>\n",
       "      <td>0</td>\n",
       "      <td>0</td>\n",
       "      <td>NaN</td>\n",
       "    </tr>\n",
       "  </tbody>\n",
       "</table>\n",
       "<p>14137 rows × 50 columns</p>\n",
       "</div>"
      ],
      "text/plain": [
       "                        id                                       listing_url  \\\n",
       "0                    10595                https://www.airbnb.com/rooms/10595   \n",
       "1                    10990                https://www.airbnb.com/rooms/10990   \n",
       "2                    10993                https://www.airbnb.com/rooms/10993   \n",
       "3                    10995                https://www.airbnb.com/rooms/10995   \n",
       "4                    27262                https://www.airbnb.com/rooms/27262   \n",
       "...                    ...                                               ...   \n",
       "14132  1249944747704827637  https://www.airbnb.com/rooms/1249944747704827637   \n",
       "14133  1250012048760328092  https://www.airbnb.com/rooms/1250012048760328092   \n",
       "14134  1250050091910224971  https://www.airbnb.com/rooms/1250050091910224971   \n",
       "14135  1250102024274955611  https://www.airbnb.com/rooms/1250102024274955611   \n",
       "14136  1250198708572511328  https://www.airbnb.com/rooms/1250198708572511328   \n",
       "\n",
       "         host_id   host_name  host_since   host_location host_response_time  \\\n",
       "0          37177   Emmanouil  08/09/2009  Athens, Greece     within an hour   \n",
       "1          37177   Emmanouil  08/09/2009  Athens, Greece     within an hour   \n",
       "2          37177   Emmanouil  08/09/2009  Athens, Greece     within an hour   \n",
       "3          37177   Emmanouil  08/09/2009  Athens, Greece     within an hour   \n",
       "4          37177   Emmanouil  08/09/2009  Athens, Greece     within an hour   \n",
       "...          ...         ...         ...             ...                ...   \n",
       "14132  484008994  Polikratos  17/10/2022  Athens, Greece     within an hour   \n",
       "14133  457404107    Frehiwot  04/05/2022             NaN                NaN   \n",
       "14134  215440107      I Home  14/09/2018  Athens, Greece     within an hour   \n",
       "14135   91254600         Flo  22/08/2016  Athens, Greece     within an hour   \n",
       "14136   91254600         Flo  22/08/2016  Athens, Greece     within an hour   \n",
       "\n",
       "      host_response_rate host_acceptance_rate host_is_superhost  ...  \\\n",
       "0                   100%                 100%                 t  ...   \n",
       "1                   100%                 100%                 t  ...   \n",
       "2                   100%                 100%                 t  ...   \n",
       "3                   100%                 100%                 t  ...   \n",
       "4                   100%                 100%                 t  ...   \n",
       "...                  ...                  ...               ...  ...   \n",
       "14132               100%                 100%                 f  ...   \n",
       "14133                NaN                 100%                 f  ...   \n",
       "14134               100%                 100%                 f  ...   \n",
       "14135               100%                  88%                 t  ...   \n",
       "14136               100%                  88%                 t  ...   \n",
       "\n",
       "       review_scores_communication review_scores_location review_scores_value  \\\n",
       "0                             4.91                   4.58                4.75   \n",
       "1                             4.90                   4.80                4.75   \n",
       "2                             4.97                   4.79                4.78   \n",
       "3                             4.89                   4.82                4.82   \n",
       "4                             4.96                   4.75                4.71   \n",
       "...                            ...                    ...                 ...   \n",
       "14132                          NaN                    NaN                 NaN   \n",
       "14133                          NaN                    NaN                 NaN   \n",
       "14134                          NaN                    NaN                 NaN   \n",
       "14135                          NaN                    NaN                 NaN   \n",
       "14136                          NaN                    NaN                 NaN   \n",
       "\n",
       "           license  instant_bookable  calculated_host_listings_count  \\\n",
       "0      00002433180                 t                               7   \n",
       "1      00002433169                 t                               7   \n",
       "2      00002433010                 t                               7   \n",
       "3      00002433153                 t                               7   \n",
       "4      00002433111                 t                               7   \n",
       "...            ...               ...                             ...   \n",
       "14132  00002503553                 t                               4   \n",
       "14133  00002925861                 f                               1   \n",
       "14134       Exempt                 t                               8   \n",
       "14135  00002886603                 f                               3   \n",
       "14136  00002886619                 f                               3   \n",
       "\n",
       "      calculated_host_listings_count_entire_homes  \\\n",
       "0                                               7   \n",
       "1                                               7   \n",
       "2                                               7   \n",
       "3                                               7   \n",
       "4                                               7   \n",
       "...                                           ...   \n",
       "14132                                           4   \n",
       "14133                                           1   \n",
       "14134                                           8   \n",
       "14135                                           3   \n",
       "14136                                           3   \n",
       "\n",
       "      calculated_host_listings_count_private_rooms  \\\n",
       "0                                                0   \n",
       "1                                                0   \n",
       "2                                                0   \n",
       "3                                                0   \n",
       "4                                                0   \n",
       "...                                            ...   \n",
       "14132                                            0   \n",
       "14133                                            0   \n",
       "14134                                            0   \n",
       "14135                                            0   \n",
       "14136                                            0   \n",
       "\n",
       "       calculated_host_listings_count_shared_rooms  reviews_per_month  \n",
       "0                                                0               0.33  \n",
       "1                                                0               0.56  \n",
       "2                                                0               0.73  \n",
       "3                                                0               0.21  \n",
       "4                                                0               0.17  \n",
       "...                                            ...                ...  \n",
       "14132                                            0                NaN  \n",
       "14133                                            0                NaN  \n",
       "14134                                            0                NaN  \n",
       "14135                                            0                NaN  \n",
       "14136                                            0                NaN  \n",
       "\n",
       "[14137 rows x 50 columns]"
      ]
     },
     "execution_count": 2,
     "metadata": {},
     "output_type": "execute_result"
    }
   ],
   "source": [
    "data=pd.read_csv('listings.csv')\n",
    "data"
   ]
  },
  {
   "cell_type": "markdown",
   "metadata": {},
   "source": [
    "**CHECAMOS LOS VALORES NULOS**"
   ]
  },
  {
   "cell_type": "code",
   "execution_count": 32,
   "metadata": {},
   "outputs": [
    {
     "data": {
      "text/plain": [
       "id                                              0\n",
       "listing_url                                     0\n",
       "host_id                                         0\n",
       "host_name                                       0\n",
       "host_since                                      0\n",
       "host_location                                   0\n",
       "host_response_time                              0\n",
       "host_response_rate                              0\n",
       "host_acceptance_rate                            0\n",
       "host_is_superhost                               0\n",
       "host_total_listings_count                       0\n",
       "host_verifications                              0\n",
       "host_has_profile_pic                            0\n",
       "host_identity_verified                          0\n",
       "latitude                                        0\n",
       "longitude                                       0\n",
       "property_type                                   0\n",
       "room_type                                       0\n",
       "accommodates                                    0\n",
       "bathrooms                                       0\n",
       "bathrooms_text                                  0\n",
       "bedrooms                                        0\n",
       "beds                                            0\n",
       "amenities                                       0\n",
       "price                                           0\n",
       "minimum_nights                                  0\n",
       "maximum_nights                                  0\n",
       "calendar_updated                                0\n",
       "has_availability                                0\n",
       "availability_30                                 0\n",
       "availability_365                                0\n",
       "number_of_reviews                               0\n",
       "number_of_reviews_ltm                           0\n",
       "number_of_reviews_l30d                          0\n",
       "first_review                                    0\n",
       "last_review                                     0\n",
       "review_scores_rating                            0\n",
       "review_scores_accuracy                          0\n",
       "review_scores_cleanliness                       0\n",
       "review_scores_checkin                           0\n",
       "review_scores_communication                     0\n",
       "review_scores_location                          0\n",
       "review_scores_value                             0\n",
       "license                                         0\n",
       "instant_bookable                                0\n",
       "calculated_host_listings_count                  0\n",
       "calculated_host_listings_count_entire_homes     0\n",
       "calculated_host_listings_count_private_rooms    0\n",
       "calculated_host_listings_count_shared_rooms     0\n",
       "reviews_per_month                               0\n",
       "dtype: int64"
      ]
     },
     "execution_count": 32,
     "metadata": {},
     "output_type": "execute_result"
    }
   ],
   "source": [
    "valores_nulos=data.isnull().sum()\n",
    "valores_nulos"
   ]
  },
  {
   "cell_type": "markdown",
   "metadata": {},
   "source": [
    "**COMENZAMOS A TRATAR LOS NULOS DE LAS 23 COLUMNAS QUE LOS CONTIENEN**"
   ]
  },
  {
   "cell_type": "markdown",
   "metadata": {},
   "source": [
    "**1. HOST_LOCATION**"
   ]
  },
  {
   "cell_type": "code",
   "execution_count": 4,
   "metadata": {},
   "outputs": [],
   "source": [
    "# Método: Sustitución con un string específico\n",
    "data['host_location'] = data['host_location'].fillna(\"Desconocido\")  \n",
    "# Razón: Se utiliza un valor descriptivo para indicar que la ubicación del anfitrión es desconocida."
   ]
  },
  {
   "cell_type": "markdown",
   "metadata": {},
   "source": [
    "**2. HOST_RESPONSE_TIME**"
   ]
  },
  {
   "cell_type": "code",
   "execution_count": 5,
   "metadata": {},
   "outputs": [],
   "source": [
    "# Método: Sustitución con un string específico\n",
    "data['host_response_time'] = data['host_response_time'].fillna(\"Desconocido\")  \n",
    "# Razón: Se utiliza un valor que indica que el tiempo de respuesta es desconocido."
   ]
  },
  {
   "cell_type": "markdown",
   "metadata": {},
   "source": [
    "**3. HOST_RESPONSE_RATE**"
   ]
  },
  {
   "cell_type": "code",
   "execution_count": 6,
   "metadata": {},
   "outputs": [],
   "source": [
    "# Método: Sustitución con la media\n",
    "data['host_response_rate'] = data['host_response_rate'].str.replace('%', '').astype(float)\n",
    "data['host_response_rate'] = data['host_response_rate'].fillna(data['host_response_rate'].mean())\n",
    "data['host_response_rate'] = data['host_response_rate'].astype(str) + '%'  \n",
    "# Razón: La media es un buen estimador para datos continuos y ayuda a mantener la distribución de los datos."
   ]
  },
  {
   "cell_type": "markdown",
   "metadata": {},
   "source": [
    "**4. HOST_ACCEPTANCE_RATE**"
   ]
  },
  {
   "cell_type": "code",
   "execution_count": 7,
   "metadata": {},
   "outputs": [],
   "source": [
    "# Método: Sustitución con la mediana\n",
    "data['host_acceptance_rate'] = data['host_acceptance_rate'].str.replace('%', '').astype(float)\n",
    "data['host_acceptance_rate'] = data['host_acceptance_rate'].fillna(data['host_acceptance_rate'].mean())\n",
    "data['host_acceptance_rate'] = data['host_acceptance_rate'].astype(str) + '%' \n",
    "# Razón: La mediana es menos sensible a los valores atípicos y proporciona una mejor representación central en este caso."
   ]
  },
  {
   "cell_type": "markdown",
   "metadata": {},
   "source": [
    "**5. HOST_IS_SUPERHOST**"
   ]
  },
  {
   "cell_type": "code",
   "execution_count": 8,
   "metadata": {},
   "outputs": [],
   "source": [
    "# Método: Sustitución con un valor específico\n",
    "data['host_is_superhost'] = data['host_is_superhost'].fillna(\"f\")  \n",
    "# Razón: Se asume que si no hay información, el anfitrión no es un superanfitrión."
   ]
  },
  {
   "cell_type": "markdown",
   "metadata": {},
   "source": [
    "**6. BATHROOMS**"
   ]
  },
  {
   "cell_type": "code",
   "execution_count": 9,
   "metadata": {},
   "outputs": [],
   "source": [
    "# Método: Sustitución con un valor específico\n",
    "data['bathrooms'] = data['bathrooms'].fillna(data['bathrooms'].mean())\n",
    "# Razón: Se utiliza un valor que indica el número de baños del airbnb."
   ]
  },
  {
   "cell_type": "markdown",
   "metadata": {},
   "source": [
    "**7. BATHROOMS_TEXT**"
   ]
  },
  {
   "cell_type": "code",
   "execution_count": 31,
   "metadata": {},
   "outputs": [],
   "source": [
    "# Método: Sustitución con un valor específico\n",
    "data['bathrooms_text'] = data['bathrooms_text'].fillna(\"1 baño\")  \n",
    "# Razón: Se utiliza un valor que indica que no hay baños disponibles."
   ]
  },
  {
   "cell_type": "markdown",
   "metadata": {},
   "source": [
    "**8. BEDROOMS**"
   ]
  },
  {
   "cell_type": "code",
   "execution_count": 11,
   "metadata": {},
   "outputs": [],
   "source": [
    "# Método: Sustitución con la mediana\n",
    "data['bedrooms'] = data['bedrooms'].fillna(data['bedrooms'].median())  \n",
    "# Razón: La mediana es un mejor estimador en caso de que existan valores atípicos."
   ]
  },
  {
   "cell_type": "markdown",
   "metadata": {},
   "source": [
    "**9. BEDS**"
   ]
  },
  {
   "cell_type": "code",
   "execution_count": 15,
   "metadata": {},
   "outputs": [],
   "source": [
    "# Método: Sustitución con la mediana\n",
    "data['beds'] = data['beds'].fillna(data['beds'].median())  \n",
    "# Razón: La mediana es menos sensible a los valores atípicos y proporciona una mejor representación central."
   ]
  },
  {
   "cell_type": "markdown",
   "metadata": {},
   "source": [
    "**10. PRICE**"
   ]
  },
  {
   "cell_type": "code",
   "execution_count": 16,
   "metadata": {},
   "outputs": [],
   "source": [
    "# Método: Sustitución con la mediana\n",
    "data['price'] = data['price'].str.replace('$', '')\n",
    "data['price'] = data['price'].str.replace(',', '').astype(float)\n",
    "data['price'] = data['price'].fillna(data['price'].median())\n",
    "data['price'] = data['price'].astype(str) + '$'\n",
    "# Razón: La mediana es un mejor estimador en caso de que existan valores atípicos."
   ]
  },
  {
   "cell_type": "markdown",
   "metadata": {},
   "source": [
    "**11. CALENDAR_UPDATED**"
   ]
  },
  {
   "cell_type": "code",
   "execution_count": 14,
   "metadata": {},
   "outputs": [],
   "source": [
    "# Método: Sustitución con un string específico\n",
    "data['calendar_updated'] = data['calendar_updated'].fillna(\"No actualizado\")  \n",
    "# Razón: Se utiliza un valor que indica que el calendario no ha sido actualizado."
   ]
  },
  {
   "cell_type": "markdown",
   "metadata": {},
   "source": [
    "**12. HAS_AVAILABILITY**"
   ]
  },
  {
   "cell_type": "code",
   "execution_count": 17,
   "metadata": {},
   "outputs": [],
   "source": [
    "# Método: Sustitución con un valor específico\n",
    "data['has_availability'] = data['has_availability'].fillna(\"f\")  \n",
    "# Razón: Se asume que si no hay información, no hay disponibilidad."
   ]
  },
  {
   "cell_type": "markdown",
   "metadata": {},
   "source": [
    "**13. FIRST_REVIEW**"
   ]
  },
  {
   "cell_type": "code",
   "execution_count": 18,
   "metadata": {},
   "outputs": [],
   "source": [
    "# Método: Sustitución con un string específico\n",
    "data['first_review'] = data['first_review'].fillna(\"Sin fecha\")  \n",
    "# Razón: Se utiliza un valor que indica que no hay reseñas disponibles."
   ]
  },
  {
   "cell_type": "markdown",
   "metadata": {},
   "source": [
    "**14. LAST_REVIEW**"
   ]
  },
  {
   "cell_type": "code",
   "execution_count": 19,
   "metadata": {},
   "outputs": [],
   "source": [
    "# Método: Sustitución con un string específico\n",
    "data['last_review'] = data['last_review'].fillna(\"Sin fecha\")  \n",
    "# Razón: Se utiliza un valor que indica que no hay reseñas disponibles."
   ]
  },
  {
   "cell_type": "markdown",
   "metadata": {},
   "source": [
    "**15. REVIEW_SCORES_RATING**"
   ]
  },
  {
   "cell_type": "code",
   "execution_count": 20,
   "metadata": {},
   "outputs": [],
   "source": [
    "# Método: Sustitución con la media\n",
    "data['review_scores_rating'] = data['review_scores_rating'].fillna(data['review_scores_rating'].mean())  \n",
    "# Razón: La media es un buen estimador para datos continuos y ayuda a mantener la distribución de los datos."
   ]
  },
  {
   "cell_type": "markdown",
   "metadata": {},
   "source": [
    "**16. REVIEW_SCORES_ACCURACY**"
   ]
  },
  {
   "cell_type": "code",
   "execution_count": 21,
   "metadata": {},
   "outputs": [],
   "source": [
    "# Método: Sustitución con la media\n",
    "data['review_scores_accuracy'] = data['review_scores_accuracy'].fillna(data['review_scores_accuracy'].mean())  \n",
    "# Razón: La media es un buen estimador para datos continuos y ayuda a mantener la distribución de los datos."
   ]
  },
  {
   "cell_type": "markdown",
   "metadata": {},
   "source": [
    "**17. REVIEW_SCORES_CLEANLINESS**"
   ]
  },
  {
   "cell_type": "code",
   "execution_count": 22,
   "metadata": {},
   "outputs": [],
   "source": [
    "# Método: Sustitución con la media\n",
    "data['review_scores_cleanliness'] = data['review_scores_cleanliness'].fillna(data['review_scores_cleanliness'].mean())  \n",
    "# Razón: La media es un buen estimador para datos continuos y ayuda a mantener la distribución de los datos."
   ]
  },
  {
   "cell_type": "markdown",
   "metadata": {},
   "source": [
    "**18. REVIEW_SCORES_CHECKIN**"
   ]
  },
  {
   "cell_type": "code",
   "execution_count": 23,
   "metadata": {},
   "outputs": [],
   "source": [
    "# Método: Sustitución con la media\n",
    "data['review_scores_checkin'] = data['review_scores_checkin'].fillna(data['review_scores_checkin'].mean())  \n",
    "# Razón: La media es un buen estimador para datos continuos y ayuda a mantener la distribución de los datos."
   ]
  },
  {
   "cell_type": "markdown",
   "metadata": {},
   "source": [
    "**19. REVIEW_SCORES_COMMUNICATION**"
   ]
  },
  {
   "cell_type": "code",
   "execution_count": 24,
   "metadata": {},
   "outputs": [],
   "source": [
    "# Método: Sustitución con la media\n",
    "data['review_scores_communication'] = data['review_scores_communication'].fillna(data['review_scores_communication'].mean())  \n",
    "# Razón: La media es un buen estimador para datos continuos y ayuda a mantener la distribución de los datos."
   ]
  },
  {
   "cell_type": "markdown",
   "metadata": {},
   "source": [
    "**20. REVIEW_SCORES_LOCATION**"
   ]
  },
  {
   "cell_type": "code",
   "execution_count": 25,
   "metadata": {},
   "outputs": [],
   "source": [
    "# Método: Sustitución con la media\n",
    "data['review_scores_location'] = data['review_scores_location'].fillna(data['review_scores_location'].mean())  \n",
    "# Razón: La media es un buen estimador para datos continuos y ayuda a mantener la distribución de los datos."
   ]
  },
  {
   "cell_type": "markdown",
   "metadata": {},
   "source": [
    "**21. REVIEW_SCORES_VALUE**"
   ]
  },
  {
   "cell_type": "code",
   "execution_count": 26,
   "metadata": {},
   "outputs": [],
   "source": [
    "# Método: Sustitución con la media\n",
    "data['review_scores_value'] = data['review_scores_value'].fillna(data['review_scores_value'].mean())  \n",
    "# Razón: La media es un buen estimador para datos continuos y ayuda a mantener la distribución de los datos."
   ]
  },
  {
   "cell_type": "markdown",
   "metadata": {},
   "source": [
    "**22. LICENSE**"
   ]
  },
  {
   "cell_type": "code",
   "execution_count": 27,
   "metadata": {},
   "outputs": [],
   "source": [
    "# Método: Sustitución con un string específico\n",
    "data['license'] = data['license'].fillna(\"Sin licencia\")  \n",
    "# Razón: Se utiliza un valor que indica que no hay información sobre la licencia."
   ]
  },
  {
   "cell_type": "markdown",
   "metadata": {},
   "source": [
    "**23. REVIEWS_PER_MONTH**"
   ]
  },
  {
   "cell_type": "code",
   "execution_count": 28,
   "metadata": {},
   "outputs": [],
   "source": [
    "# Método: Sustitución con la media\n",
    "data['reviews_per_month'] = data['reviews_per_month'].fillna(data['reviews_per_month'].mean())  \n",
    "# Razón: La media es un buen estimador para datos continuos y ayuda a mantener la distribución de los datos."
   ]
  },
  {
   "cell_type": "markdown",
   "metadata": {},
   "source": [
    "**CREAMOS EL ARCHIVO CSV LIMPIO**"
   ]
  },
  {
   "cell_type": "code",
   "execution_count": 30,
   "metadata": {},
   "outputs": [],
   "source": [
    "data.to_csv('listings_limpio.csv')"
   ]
  }
 ],
 "metadata": {
  "kernelspec": {
   "display_name": "Python 3",
   "language": "python",
   "name": "python3"
  },
  "language_info": {
   "codemirror_mode": {
    "name": "ipython",
    "version": 3
   },
   "file_extension": ".py",
   "mimetype": "text/x-python",
   "name": "python",
   "nbconvert_exporter": "python",
   "pygments_lexer": "ipython3",
   "version": "3.12.1"
  }
 },
 "nbformat": 4,
 "nbformat_minor": 2
}
